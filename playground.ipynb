{
 "cells": [
  {
   "cell_type": "code",
   "execution_count": 53,
   "metadata": {},
   "outputs": [],
   "source": [
    "import pickle\n",
    "from nltk import sent_tokenize, word_tokenize"
   ]
  },
  {
   "cell_type": "code",
   "execution_count": 14,
   "metadata": {},
   "outputs": [],
   "source": [
    "import re\n",
    "def extract_features(sentence, index):\n",
    "  return {\n",
    "      'word':sentence[index],\n",
    "      'is_first':index==0,\n",
    "      'is_last':index ==len(sentence)-1,\n",
    "      'prefix-1':sentence[index][0],\n",
    "      'prefix-2':sentence[index][:2],\n",
    "      'prefix-3':sentence[index][:3],\n",
    "      'prefix-3':sentence[index][:4],\n",
    "      'suffix-1':sentence[index][-1],\n",
    "      'suffix-2':sentence[index][-2:],\n",
    "      'suffix-3':sentence[index][-3:],\n",
    "      'suffix-3':sentence[index][-4:],\n",
    "      'prev_word':'' if index == 0 else sentence[index-1],\n",
    "      'next_word':'' if index < len(sentence) else sentence[index+1],\n",
    "      'has_hyphen': '-' in sentence[index],\n",
    "      'is_numeric': sentence[index].isdigit(),\n",
    "  }"
   ]
  },
  {
   "cell_type": "code",
   "execution_count": 7,
   "metadata": {},
   "outputs": [
    {
     "name": "stdout",
     "output_type": "stream",
     "text": [
      "<class 'sklearn_crfsuite.estimator.CRF'>\n"
     ]
    }
   ],
   "source": [
    "with open(\"./pos_crf_model.pkl\", \"rb\") as f:\n",
    "    model = pickle.load(f)\n",
    "    print(type(model))"
   ]
  },
  {
   "cell_type": "code",
   "execution_count": 52,
   "metadata": {},
   "outputs": [],
   "source": [
    "def transform_to_dataset(sentence):\n",
    "  tmp = []\n",
    "  for index in range(len(sentence)):\n",
    "      tmp.append(extract_features(sentence, index)),\n",
    "  return tmp"
   ]
  },
  {
   "cell_type": "code",
   "execution_count": 57,
   "metadata": {},
   "outputs": [],
   "source": [
    "def transform_to_dataset(corpus: str):\n",
    "    sentences = sent_tokenize(corpus)\n",
    "    sentences = [word_tokenize(sentence) for sentence in sentences]\n",
    "    X = []\n",
    "    for sentence in sentences:\n",
    "        tmp = []\n",
    "        for i in range(len(sentence)):\n",
    "            tmp.append(extract_features(sentence, i))\n",
    "        X.append(tmp)\n",
    "    return X"
   ]
  },
  {
   "cell_type": "code",
   "execution_count": 58,
   "metadata": {},
   "outputs": [],
   "source": [
    "input_txt = \"இல்­லையா என்­பதை மக்கள் முன்­னி­லையில் குறிப்­பிட வேண்டும் .  அதேபோல் இம்­முறை வரவு–செலவு திட்டமானது மக்­க­ளுக்கு சிறி­த­ளவு நிவா­ரணம் அம்­சங்கள் சிலவும் உள்­ளன .  அதனால் இதனை தோற்கடிப்பதால் மாத்திரம் மாற்றத்தை ஏற்படுத்த முடியாது.\""
   ]
  },
  {
   "cell_type": "code",
   "execution_count": 60,
   "metadata": {},
   "outputs": [],
   "source": [
    "X = transform_to_dataset(input_txt)"
   ]
  },
  {
   "cell_type": "code",
   "execution_count": 47,
   "metadata": {},
   "outputs": [],
   "source": [
    "X = [transform_to_dataset(input_txt)]"
   ]
  },
  {
   "cell_type": "code",
   "execution_count": 48,
   "metadata": {},
   "outputs": [
    {
     "data": {
      "text/plain": [
       "list"
      ]
     },
     "execution_count": 48,
     "metadata": {},
     "output_type": "execute_result"
    }
   ],
   "source": [
    "type(X)"
   ]
  },
  {
   "cell_type": "code",
   "execution_count": 61,
   "metadata": {},
   "outputs": [
    {
     "name": "stdout",
     "output_type": "stream",
     "text": [
      "[{'word': 'இல்\\xadலையா', 'is_first': True, 'is_last': False, 'prefix-1': 'இ', 'prefix-2': 'இல', 'prefix-3': 'இல்\\xad', 'suffix-1': 'ா', 'suffix-2': 'யா', 'suffix-3': 'லையா', 'prev_word': '', 'next_word': '', 'has_hyphen': False, 'is_numeric': False}, {'word': 'என்\\xadபதை', 'is_first': False, 'is_last': False, 'prefix-1': 'எ', 'prefix-2': 'என', 'prefix-3': 'என்\\xad', 'suffix-1': 'ை', 'suffix-2': 'தை', 'suffix-3': '\\xadபதை', 'prev_word': 'இல்\\xadலையா', 'next_word': '', 'has_hyphen': False, 'is_numeric': False}, {'word': 'மக்கள்', 'is_first': False, 'is_last': False, 'prefix-1': 'ம', 'prefix-2': 'மக', 'prefix-3': 'மக்க', 'suffix-1': '்', 'suffix-2': 'ள்', 'suffix-3': '்கள்', 'prev_word': 'என்\\xadபதை', 'next_word': '', 'has_hyphen': False, 'is_numeric': False}, {'word': 'முன்\\xadனி\\xadலையில்', 'is_first': False, 'is_last': False, 'prefix-1': 'ம', 'prefix-2': 'மு', 'prefix-3': 'முன்', 'suffix-1': '்', 'suffix-2': 'ல்', 'suffix-3': 'யில்', 'prev_word': 'மக்கள்', 'next_word': '', 'has_hyphen': False, 'is_numeric': False}, {'word': 'குறிப்\\xadபிட', 'is_first': False, 'is_last': False, 'prefix-1': 'க', 'prefix-2': 'கு', 'prefix-3': 'குறி', 'suffix-1': 'ட', 'suffix-2': 'ிட', 'suffix-3': '\\xadபிட', 'prev_word': 'முன்\\xadனி\\xadலையில்', 'next_word': '', 'has_hyphen': False, 'is_numeric': False}, {'word': 'வேண்டும்', 'is_first': False, 'is_last': False, 'prefix-1': 'வ', 'prefix-2': 'வே', 'prefix-3': 'வேண்', 'suffix-1': '்', 'suffix-2': 'ம்', 'suffix-3': 'டும்', 'prev_word': 'குறிப்\\xadபிட', 'next_word': '', 'has_hyphen': False, 'is_numeric': False}, {'word': '.', 'is_first': False, 'is_last': True, 'prefix-1': '.', 'prefix-2': '.', 'prefix-3': '.', 'suffix-1': '.', 'suffix-2': '.', 'suffix-3': '.', 'prev_word': 'வேண்டும்', 'next_word': '', 'has_hyphen': False, 'is_numeric': False}]\n"
     ]
    }
   ],
   "source": [
    "print(X[0])"
   ]
  },
  {
   "cell_type": "code",
   "execution_count": 62,
   "metadata": {},
   "outputs": [
    {
     "data": {
      "text/plain": [
       "[['NOUN', 'VERB', 'NOUN', 'NOUN', 'VERB', 'VAUX', 'PUNCT'],\n",
       " ['PRON',\n",
       "  'NOUN',\n",
       "  'NOUN',\n",
       "  'NOUN',\n",
       "  'NOUN',\n",
       "  'NOUN',\n",
       "  'NOUN',\n",
       "  'NOUN',\n",
       "  'NOUN',\n",
       "  'VERB',\n",
       "  'PUNCT'],\n",
       " ['CCONJ', 'PRON', 'NOUN', 'NOUN', 'NOUN', 'VERB', 'VAUX', 'PUNCT']]"
      ]
     },
     "execution_count": 62,
     "metadata": {},
     "output_type": "execute_result"
    }
   ],
   "source": [
    "model.predict(X)"
   ]
  },
  {
   "cell_type": "code",
   "execution_count": 24,
   "metadata": {},
   "outputs": [
    {
     "data": {
      "text/plain": [
       "{'word': 'இல்\\xadலையா',\n",
       " 'is_first': True,\n",
       " 'is_last': True,\n",
       " 'prefix-1': 'இ',\n",
       " 'prefix-2': 'இல',\n",
       " 'prefix-3': 'இல்\\xad',\n",
       " 'suffix-1': 'ா',\n",
       " 'suffix-2': 'யா',\n",
       " 'suffix-3': 'லையா',\n",
       " 'prev_word': '',\n",
       " 'next_word': '',\n",
       " 'has_hyphen': False,\n",
       " 'is_numeric': False}"
      ]
     },
     "execution_count": 24,
     "metadata": {},
     "output_type": "execute_result"
    }
   ],
   "source": [
    "extract_features([\"இல்­லையா\"], 0)"
   ]
  },
  {
   "cell_type": "markdown",
   "metadata": {},
   "source": [
    "----"
   ]
  },
  {
   "cell_type": "code",
   "execution_count": 63,
   "metadata": {},
   "outputs": [],
   "source": [
    "with open(\"./ner_crf_model.pkl\", \"rb\") as f:\n",
    "    ner_model = pickle.load(f)"
   ]
  },
  {
   "cell_type": "code",
   "execution_count": 64,
   "metadata": {},
   "outputs": [
    {
     "data": {
      "text/plain": [
       "['O', 'B-LOC', 'B-PER', 'I-PER', 'B-ORG', 'I-ORG', 'I-LOC', ' B-ORG']"
      ]
     },
     "execution_count": 64,
     "metadata": {},
     "output_type": "execute_result"
    }
   ],
   "source": [
    "ner_model.classes_"
   ]
  },
  {
   "cell_type": "code",
   "execution_count": 65,
   "metadata": {},
   "outputs": [],
   "source": [
    "def extract_ner_features(sentence, index):\n",
    "    word = sentence[index]\n",
    "    return {\n",
    "        'word': word,\n",
    "        'is_first': index == 0,\n",
    "        'is_last': index == len(sentence) - 1,\n",
    "        'prefix-1': \"\" if not word else word[0],\n",
    "        'prefix-2': word[:2],\n",
    "        'prefix-3': word[:3],\n",
    "        'prefix-4': word[:4],\n",
    "        'suffix-1': \"\" if not word else word[-1],\n",
    "        'suffix-2': word[-2:],\n",
    "        'suffix-3': word[-3:],\n",
    "        'suffix-4': word[-4:],\n",
    "        'prev_word': '' if index == 0 else sentence[index - 1][0],\n",
    "        'next_word': '' if index == len(sentence) - 1 else sentence[index + 1][0],\n",
    "        'has_hyphen': '-' in word,\n",
    "        'is_numeric': word.isdigit(),\n",
    "    }"
   ]
  },
  {
   "cell_type": "code",
   "execution_count": 66,
   "metadata": {},
   "outputs": [],
   "source": [
    "def transform_to_ner_dataset(corpus: str):\n",
    "    sentences = sent_tokenize(corpus)\n",
    "    sentences = [word_tokenize(sentence) for sentence in sentences]\n",
    "    X = []\n",
    "    for sentence in sentences:\n",
    "        tmp = []\n",
    "        for i in range(len(sentence)):\n",
    "            tmp.append(extract_ner_features(sentence, i))\n",
    "        X.append(tmp)\n",
    "    return X"
   ]
  },
  {
   "cell_type": "code",
   "execution_count": 67,
   "metadata": {},
   "outputs": [
    {
     "data": {
      "text/plain": [
       "'இல்\\xadலையா என்\\xadபதை மக்கள் முன்\\xadனி\\xadலையில் குறிப்\\xadபிட வேண்டும் .  அதேபோல் இம்\\xadமுறை வரவு–செலவு திட்டமானது மக்\\xadக\\xadளுக்கு சிறி\\xadத\\xadளவு நிவா\\xadரணம் அம்\\xadசங்கள் சிலவும் உள்\\xadளன .  அதனால் இதனை தோற்கடிப்பதால் மாத்திரம் மாற்றத்தை ஏற்படுத்த முடியாது.'"
      ]
     },
     "execution_count": 67,
     "metadata": {},
     "output_type": "execute_result"
    }
   ],
   "source": [
    "input_txt"
   ]
  },
  {
   "cell_type": "code",
   "execution_count": 69,
   "metadata": {},
   "outputs": [],
   "source": [
    "X = transform_to_ner_dataset(input_txt)"
   ]
  },
  {
   "cell_type": "code",
   "execution_count": 71,
   "metadata": {},
   "outputs": [
    {
     "data": {
      "text/plain": [
       "[['O', 'O', 'O', 'O', 'O', 'O', 'O'],\n",
       " ['O', 'O', 'O', 'O', 'O', 'O', 'O', 'O', 'O', 'O', 'O'],\n",
       " ['O', 'O', 'O', 'O', 'O', 'O', 'O', 'O']]"
      ]
     },
     "execution_count": 71,
     "metadata": {},
     "output_type": "execute_result"
    }
   ],
   "source": [
    "ner_model.predict(X)"
   ]
  },
  {
   "cell_type": "code",
   "execution_count": null,
   "metadata": {},
   "outputs": [],
   "source": []
  }
 ],
 "metadata": {
  "kernelspec": {
   "display_name": "venv",
   "language": "python",
   "name": "python3"
  },
  "language_info": {
   "codemirror_mode": {
    "name": "ipython",
    "version": 3
   },
   "file_extension": ".py",
   "mimetype": "text/x-python",
   "name": "python",
   "nbconvert_exporter": "python",
   "pygments_lexer": "ipython3",
   "version": "3.9.18"
  }
 },
 "nbformat": 4,
 "nbformat_minor": 2
}
